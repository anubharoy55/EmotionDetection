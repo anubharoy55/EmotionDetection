{
 "cells": [
  {
   "cell_type": "code",
   "execution_count": 1,
   "id": "48f0cb93",
   "metadata": {},
   "outputs": [],
   "source": [
    "import pandas as pd\n",
    "import numpy as np \n",
    "import os\n",
    "import cv2\n",
    "from tqdm import tqdm\n",
    "import matplotlib.pyplot as plt"
   ]
  },
  {
   "cell_type": "code",
   "execution_count": 2,
   "id": "f2feba88",
   "metadata": {},
   "outputs": [
    {
     "data": {
      "text/html": [
       "<div>\n",
       "<style scoped>\n",
       "    .dataframe tbody tr th:only-of-type {\n",
       "        vertical-align: middle;\n",
       "    }\n",
       "\n",
       "    .dataframe tbody tr th {\n",
       "        vertical-align: top;\n",
       "    }\n",
       "\n",
       "    .dataframe thead th {\n",
       "        text-align: right;\n",
       "    }\n",
       "</style>\n",
       "<table border=\"1\" class=\"dataframe\">\n",
       "  <thead>\n",
       "    <tr style=\"text-align: right;\">\n",
       "      <th></th>\n",
       "      <th>emotion</th>\n",
       "      <th>pixels</th>\n",
       "      <th>Usage</th>\n",
       "    </tr>\n",
       "  </thead>\n",
       "  <tbody>\n",
       "    <tr>\n",
       "      <th>0</th>\n",
       "      <td>0</td>\n",
       "      <td>70 80 82 72 58 58 60 63 54 58 60 48 89 115 121...</td>\n",
       "      <td>Training</td>\n",
       "    </tr>\n",
       "    <tr>\n",
       "      <th>1</th>\n",
       "      <td>0</td>\n",
       "      <td>151 150 147 155 148 133 111 140 170 174 182 15...</td>\n",
       "      <td>Training</td>\n",
       "    </tr>\n",
       "    <tr>\n",
       "      <th>2</th>\n",
       "      <td>2</td>\n",
       "      <td>231 212 156 164 174 138 161 173 182 200 106 38...</td>\n",
       "      <td>Training</td>\n",
       "    </tr>\n",
       "    <tr>\n",
       "      <th>3</th>\n",
       "      <td>4</td>\n",
       "      <td>24 32 36 30 32 23 19 20 30 41 21 22 32 34 21 1...</td>\n",
       "      <td>Training</td>\n",
       "    </tr>\n",
       "    <tr>\n",
       "      <th>4</th>\n",
       "      <td>6</td>\n",
       "      <td>4 0 0 0 0 0 0 0 0 0 0 0 3 15 23 28 48 50 58 84...</td>\n",
       "      <td>Training</td>\n",
       "    </tr>\n",
       "  </tbody>\n",
       "</table>\n",
       "</div>"
      ],
      "text/plain": [
       "   emotion                                             pixels     Usage\n",
       "0        0  70 80 82 72 58 58 60 63 54 58 60 48 89 115 121...  Training\n",
       "1        0  151 150 147 155 148 133 111 140 170 174 182 15...  Training\n",
       "2        2  231 212 156 164 174 138 161 173 182 200 106 38...  Training\n",
       "3        4  24 32 36 30 32 23 19 20 30 41 21 22 32 34 21 1...  Training\n",
       "4        6  4 0 0 0 0 0 0 0 0 0 0 0 3 15 23 28 48 50 58 84...  Training"
      ]
     },
     "execution_count": 2,
     "metadata": {},
     "output_type": "execute_result"
    }
   ],
   "source": [
    "data = pd.read_csv(\"fer2013.csv\")\n",
    "data.head()"
   ]
  },
  {
   "cell_type": "code",
   "execution_count": 3,
   "id": "0086f0a1",
   "metadata": {},
   "outputs": [
    {
     "name": "stderr",
     "output_type": "stream",
     "text": [
      "35887it [01:44, 342.63it/s]\n"
     ]
    }
   ],
   "source": [
    "count=0\n",
    "\n",
    "for i, j, k in tqdm(zip(data[\"emotion\"], data[\"pixels\"], data[\"Usage\"])):\n",
    "    pixel = []\n",
    "    pixels = j.split(' ')\n",
    "    for m in pixels:\n",
    "        value = float(m)\n",
    "        pixel.append(value)\n",
    "    pixel = np.array(pixel)\n",
    "    #print(pixel.shape)\n",
    "    image = pixel.reshape(48, 48)\n",
    "    #print(image.shape)\n",
    "    \n",
    "    if k == \"Training\":\n",
    "        if not os.path.exists(\"train\"):\n",
    "            os.mkdir(\"train\")\n",
    "        if i == 0:\n",
    "            if not os.path.exists(\"train/Angry\"):\n",
    "                os.mkdir(\"train/Angry\")\n",
    "                path = \"train/Angry/\" + str(count) + \".jpg\"\n",
    "                cv2.imwrite(path , image)\n",
    "                count += 1\n",
    "            else:\n",
    "                path = \"train/Angry/\" + str(count) + \".jpg\"\n",
    "                cv2.imwrite(path , image)\n",
    "                count += 1\n",
    "        \n",
    "        elif i == 1:\n",
    "            if not os.path.exists(\"train/Disgust\"):\n",
    "                os.mkdir(\"train/Disgust\")\n",
    "                path = \"train/Disgust/\" + str(count) + \".jpg\"\n",
    "                cv2.imwrite(path , image)\n",
    "                count += 1\n",
    "            else:\n",
    "                path = \"train/Disgust/\" + str(count) + \".jpg\"\n",
    "                cv2.imwrite(path , image)\n",
    "                count += 1\n",
    "        \n",
    "        elif i == 2:\n",
    "            if not os.path.exists(\"train/Fear\"):\n",
    "                os.mkdir(\"train/Fear\")\n",
    "                path = \"train/Fear/\" + str(count) + \".jpg\"\n",
    "                cv2.imwrite(path , image)\n",
    "                count += 1\n",
    "            else:\n",
    "                path = \"train/Fear/\" + str(count) + \".jpg\"\n",
    "                cv2.imwrite(path , image)\n",
    "                count += 1\n",
    "                \n",
    "        elif i == 3:\n",
    "            if not os.path.exists(\"train/Happy\"):\n",
    "                os.mkdir(\"train/Happy\")\n",
    "                path = \"train/Happy/\" + str(count) + \".jpg\"\n",
    "                cv2.imwrite(path , image)\n",
    "                count += 1\n",
    "            else:\n",
    "                path = \"train/Happy/\" + str(count) + \".jpg\"\n",
    "                cv2.imwrite(path , image)\n",
    "                count += 1\n",
    "                \n",
    "        elif i == 4:\n",
    "            if not os.path.exists(\"train/Sad\"):\n",
    "                os.mkdir(\"train/Sad\")\n",
    "                path = \"train/Sad/\" + str(count) + \".jpg\"\n",
    "                cv2.imwrite(path , image)\n",
    "                count += 1\n",
    "            else:\n",
    "                path = \"train/Sad/\" + str(count) + \".jpg\"\n",
    "                cv2.imwrite(path , image)\n",
    "                count += 1\n",
    "                \n",
    "        elif i == 5:\n",
    "            if not os.path.exists(\"train/Surprise\"):\n",
    "                os.mkdir(\"train/Surprise\")\n",
    "                path = \"train/Surprise/\" + str(count) + \".jpg\"\n",
    "                cv2.imwrite(path , image)\n",
    "                count += 1\n",
    "            else:\n",
    "                path = \"train/Surprise/\" + str(count) + \".jpg\"\n",
    "                cv2.imwrite(path , image)\n",
    "                count += 1\n",
    "                \n",
    "        elif i == 6:\n",
    "            if not os.path.exists(\"train/Neutral\"):\n",
    "                os.mkdir(\"train/Neutral\")\n",
    "                path = \"train/Neutral/\" + str(count) + \".jpg\"\n",
    "                cv2.imwrite(path , image)\n",
    "                count += 1\n",
    "            else:\n",
    "                path = \"train/Neutral/\" + str(count) + \".jpg\"\n",
    "                cv2.imwrite(path , image)\n",
    "                count += 1\n",
    "        \n",
    "        \n",
    "    else:\n",
    "        if not os.path.exists(\"validation\"):\n",
    "            os.mkdir(\"validation\")\n",
    "        \n",
    "        if i == 0:\n",
    "            if not os.path.exists(\"validation/Angry\"):\n",
    "                os.mkdir(\"validation/Angry\")\n",
    "                path = \"validation/Angry/\" + str(count) + \".jpg\"\n",
    "                cv2.imwrite(path , image)\n",
    "                count += 1\n",
    "            else:\n",
    "                path = \"validation/Angry/\" + str(count) + \".jpg\"\n",
    "                cv2.imwrite(path , image)\n",
    "                count += 1\n",
    "        \n",
    "        elif i == 1:\n",
    "            if not os.path.exists(\"validation/Disgust\"):\n",
    "                os.mkdir(\"validation/Disgust\")\n",
    "                path = \"validation/Disgust/\" + str(count) + \".jpg\"\n",
    "                cv2.imwrite(path , image)\n",
    "                count += 1\n",
    "            else:\n",
    "                path = \"validation/Disgust/\" + str(count) + \".jpg\"\n",
    "                cv2.imwrite(path , image)\n",
    "                count += 1\n",
    "        \n",
    "        elif i == 2:\n",
    "            if not os.path.exists(\"validation/Fear\"):\n",
    "                os.mkdir(\"validation/Fear\")\n",
    "                path = \"validation/Fear/\" + str(count) + \".jpg\"\n",
    "                cv2.imwrite(path , image)\n",
    "                count += 1\n",
    "            else:\n",
    "                path = \"validation/Fear/\" + str(count) + \".jpg\"\n",
    "                cv2.imwrite(path , image)\n",
    "                count += 1\n",
    "                \n",
    "        elif i == 3:\n",
    "            if not os.path.exists(\"validation/Happy\"):\n",
    "                os.mkdir(\"validation/Happy\")\n",
    "                path = \"validation/Happy/\" + str(count) + \".jpg\"\n",
    "                cv2.imwrite(path , image)\n",
    "                count += 1\n",
    "            else:\n",
    "                path = \"validation/Happy/\" + str(count) + \".jpg\"\n",
    "                cv2.imwrite(path , image)\n",
    "                count += 1\n",
    "                \n",
    "        elif i == 4:\n",
    "            if not os.path.exists(\"validation/Sad\"):\n",
    "                os.mkdir(\"validation/Sad\")\n",
    "                path = \"validation/Sad/\" + str(count) + \".jpg\"\n",
    "                cv2.imwrite(path , image)\n",
    "                count += 1\n",
    "            else:\n",
    "                path = \"validation/Sad/\" + str(count) + \".jpg\"\n",
    "                cv2.imwrite(path , image)\n",
    "                count += 1\n",
    "                \n",
    "        elif i == 5:\n",
    "            if not os.path.exists(\"validation/Surprise\"):\n",
    "                os.mkdir(\"validation/Surprise\")\n",
    "                path = \"validation/Surprise/\" + str(count) + \".jpg\"\n",
    "                cv2.imwrite(path , image)\n",
    "                count += 1\n",
    "            else:\n",
    "                path = \"validation/Surprise/\" + str(count) + \".jpg\"\n",
    "                cv2.imwrite(path , image)\n",
    "                count += 1\n",
    "                \n",
    "        elif i == 6:\n",
    "            if not os.path.exists(\"validation/Neutral\"):\n",
    "                os.mkdir(\"validation/Neutral\")\n",
    "                path = \"validation/Neutral/\" + str(count) + \".jpg\"\n",
    "                cv2.imwrite(path , image)\n",
    "                count += 1\n",
    "            else:\n",
    "                path = \"validation/Neutral/\" + str(count) + \".jpg\"\n",
    "                cv2.imwrite(path , image)\n",
    "                count += 1\n",
    "        \n",
    "        \n"
   ]
  },
  {
   "cell_type": "code",
   "execution_count": 4,
   "id": "7abce22d",
   "metadata": {},
   "outputs": [
    {
     "data": {
      "text/plain": [
       "[4033, 436, 5121, 8989, 6198, 6077, 4002]"
      ]
     },
     "execution_count": 4,
     "metadata": {},
     "output_type": "execute_result"
    }
   ],
   "source": [
    "train_counts = []\n",
    "train_dir= 'C:/Users/Anubha/Documents/SignLanguageDetection/train'\n",
    "classes=[]\n",
    "import os\n",
    " \n",
    "for folder in os.listdir(train_dir):\n",
    "    classes.append(folder)\n",
    "    class_path = train_dir + '/' +folder + '/'\n",
    "    list_train = []\n",
    "    count = 0\n",
    "    for file in os.listdir(class_path):\n",
    "        count +=1\n",
    "    \n",
    "    train_counts.append(count)\n",
    "    \n",
    "train_counts"
   ]
  },
  {
   "cell_type": "code",
   "execution_count": 5,
   "id": "00b25e3a",
   "metadata": {},
   "outputs": [
    {
     "data": {
      "text/plain": [
       "Text(0, 0.5, 'Counts')"
      ]
     },
     "execution_count": 5,
     "metadata": {},
     "output_type": "execute_result"
    },
    {
     "data": {
      "image/png": "[encoded data removed]",
      "text/plain": [
       "<Figure size 432x288 with 1 Axes>"
      ]
     },
     "metadata": {
      "needs_background": "light"
     },
     "output_type": "display_data"
    }
   ],
   "source": [
    "plt.bar(classes, train_counts, width=0.5)\n",
    "plt.title(\"Bar Graph of Train Data\")\n",
    "plt.xlabel(\"Classes\")\n",
    "plt.ylabel(\"Counts\")"
   ]
  },
  {
   "cell_type": "code",
   "execution_count": 6,
   "id": "6f8efec5",
   "metadata": {},
   "outputs": [
    {
     "data": {
      "image/png": "[encoded data removed]",
      "text/plain": [
       "<Figure size 432x288 with 1 Axes>"
      ]
     },
     "metadata": {
      "needs_background": "light"
     },
     "output_type": "display_data"
    }
   ],
   "source": [
    "plt.scatter(classes, train_counts)\n",
    "plt.plot(classes, train_counts, '-o')\n",
    "plt.show()"
   ]
  },
  {
   "cell_type": "markdown",
   "id": "d6192c75",
   "metadata": {},
   "source": [
    "# The above diagram shows that the data is balanced but one class i.e. Disgust is not at par, so we would remove that class"
   ]
  },
  {
   "cell_type": "code",
   "execution_count": 13,
   "id": "a87d0cfa",
   "metadata": {},
   "outputs": [
    {
     "ename": "PermissionError",
     "evalue": "[WinError 5] Access is denied: 'train/Disgust'",
     "output_type": "error",
     "traceback": [
      "\u001b[1;31m---------------------------------------------------------------------------\u001b[0m",
      "\u001b[1;31mPermissionError\u001b[0m                           Traceback (most recent call last)",
      "\u001b[1;32m~\\AppData\\Local\\Temp/ipykernel_10700/2015904479.py\u001b[0m in \u001b[0;36m<module>\u001b[1;34m\u001b[0m\n\u001b[1;32m----> 1\u001b[1;33m \u001b[0mos\u001b[0m\u001b[1;33m.\u001b[0m\u001b[0mremove\u001b[0m\u001b[1;33m(\u001b[0m\u001b[1;34m'train/Disgust'\u001b[0m\u001b[1;33m)\u001b[0m\u001b[1;33m\u001b[0m\u001b[1;33m\u001b[0m\u001b[0m\n\u001b[0m\u001b[0;32m      2\u001b[0m \u001b[0mos\u001b[0m\u001b[1;33m.\u001b[0m\u001b[0mremove\u001b[0m\u001b[1;33m(\u001b[0m\u001b[1;34m'validation/Disgust'\u001b[0m\u001b[1;33m)\u001b[0m\u001b[1;33m\u001b[0m\u001b[1;33m\u001b[0m\u001b[0m\n",
      "\u001b[1;31mPermissionError\u001b[0m: [WinError 5] Access is denied: 'train/Disgust'"
     ]
    }
   ],
   "source": [
    "os.remove('train/Disgust') \n",
    "os.remove('validation/Disgust') "
   ]
  },
  {
   "cell_type": "code",
   "execution_count": 14,
   "id": "b73ff336",
   "metadata": {},
   "outputs": [],
   "source": [
    "import keras\n",
    "import tensorflow as tf\n",
    "from tensorflow.keras.preprocessing.image import ImageDataGenerator\n",
    "from tensorflow.keras.layers import Input, Conv2D, MaxPooling2D, Dropout, BatchNormalization, Dense, Flatten, Activation\n",
    "from tensorflow.keras.models import Sequential, Model\n",
    "from tensorflow.keras.regularizers import l2\n",
    "from tensorflow.keras.optimizers import Adam\n",
    "import numpy as np\n",
    "#%pip install pydot\n",
    "#%pip install graphviz\n",
    "import pydot\n",
    "import graphviz\n",
    "import os\n",
    "\n",
    "num_classes = 6\n",
    "\n",
    "Img_Height = 48\n",
    "Img_width = 48\n",
    "\n",
    "batch_size = 32\n",
    "\n",
    "train_dir = \"train\"\n",
    "validation_dir = \"validation\""
   ]
  },
  {
   "cell_type": "code",
   "execution_count": 15,
   "id": "a29e5530",
   "metadata": {},
   "outputs": [
    {
     "name": "stdout",
     "output_type": "stream",
     "text": [
      "Found 34420 images belonging to 6 classes.\n",
      "Found 7067 images belonging to 6 classes.\n"
     ]
    }
   ],
   "source": [
    "train_datagen = ImageDataGenerator(rescale=1./255,\n",
    "                                   rotation_range=60,\n",
    "                                   shear_range=0.5,\n",
    "                                   zoom_range=0.5,\n",
    "                                   width_shift_range=0.5,\n",
    "                                   height_shift_range=0.5,\n",
    "                                   horizontal_flip=True,\n",
    "                                   fill_mode='nearest')\n",
    "\n",
    "validation_datagen = ImageDataGenerator(rescale=1./255)\n",
    "\n",
    "train_generator = train_datagen.flow_from_directory(train_dir,\n",
    "                                                    color_mode='grayscale',\n",
    "                                                    target_size=(Img_Height, Img_width),\n",
    "                                                    batch_size=batch_size,\n",
    "                                                    class_mode='categorical',\n",
    "                                                    shuffle=True)\n",
    "\n",
    "validation_generator = validation_datagen.flow_from_directory(validation_dir,\n",
    "                                                              color_mode='grayscale',\n",
    "                                                              target_size=(Img_Height, Img_width),\n",
    "                                                              batch_size=batch_size,\n",
    "                                                              class_mode='categorical',\n",
    "                                                              shuffle=True)"
   ]
  },
  {
   "cell_type": "code",
   "execution_count": 19,
   "id": "bc502211",
   "metadata": {},
   "outputs": [],
   "source": [
    "model = Sequential()\n",
    "\n",
    "# Block-1: The First Convolutional Block\n",
    "\n",
    "model.add(Conv2D(filters=32, kernel_size=(3,3), padding='same', \n",
    "                 kernel_initializer='he_normal',\n",
    "                 activation=\"relu\", \n",
    "                 input_shape=(Img_Height, Img_width, 1), \n",
    "                 name=\"Conv1\"))\n",
    "\n",
    "model.add(BatchNormalization(name=\"Batch_Norm1\"))\n",
    "\n",
    "model.add(Conv2D(filters=32, kernel_size=(3,3), padding='same', \n",
    "                 kernel_initializer='he_normal', \n",
    "                 activation=\"relu\", name=\"Conv2\"))\n",
    "\n",
    "model.add(BatchNormalization(name=\"Batch_Norm2\"))\n",
    "model.add(MaxPooling2D(pool_size=(2,2), name=\"Maxpool1\"))\n",
    "model.add(Dropout(0.2, name=\"Dropout1\"))\n",
    "\n",
    "# Block-2: The Second Convolutional Block\n",
    "\n",
    "model.add(Conv2D(filters=64, kernel_size=(3,3), padding='same', \n",
    "                 kernel_initializer='he_normal',\n",
    "                 activation=\"relu\", name=\"Conv3\"))\n",
    "\n",
    "model.add(BatchNormalization(name=\"Batch_Norm3\"))\n",
    "\n",
    "model.add(Conv2D(filters=64,kernel_size=(3,3),padding='same',\n",
    "                 kernel_initializer='he_normal', \n",
    "                 activation=\"relu\", name=\"Conv4\"))\n",
    "\n",
    "model.add(BatchNormalization(name=\"Batch_Norm4\"))\n",
    "model.add(MaxPooling2D(pool_size=(2,2), name=\"Maxpool2\"))\n",
    "model.add(Dropout(0.2, name=\"Dropout2\"))\n",
    "\n",
    "# Block-3: The Third Convolutional Block\n",
    "\n",
    "model.add(Conv2D(filters=128, kernel_size=(3,3), padding='same', \n",
    "                 kernel_initializer='he_normal', \n",
    "                 activation=\"relu\", name=\"Conv5\"))\n",
    "\n",
    "model.add(BatchNormalization(name=\"Batch_Norm5\"))\n",
    "\n",
    "model.add(Conv2D(filters=128, kernel_size=(3,3), padding='same', \n",
    "                 kernel_initializer='he_normal',\n",
    "                 activation=\"relu\", name=\"Conv6\"))\n",
    "\n",
    "model.add(BatchNormalization(name=\"Batch_Norm6\"))\n",
    "model.add(MaxPooling2D(pool_size=(2,2), name=\"Maxpool3\"))\n",
    "model.add(Dropout(0.2, name=\"Dropout3\"))\n",
    "\n",
    "# Block-4: The Fully Connected Block\n",
    "\n",
    "model.add(Flatten(name=\"Flatten\"))\n",
    "model.add(Dense(64, activation=\"relu\", kernel_initializer='he_normal', name=\"Dense\"))\n",
    "model.add(BatchNormalization(name=\"Batch_Norm7\"))\n",
    "model.add(Dropout(0.5, name=\"Dropout4\"))\n",
    "\n",
    "# Block-5: The Output Block\n",
    "\n",
    "model.add(Dense(num_classes, activation=\"softmax\", kernel_initializer='he_normal', name = \"Output\"))"
   ]
  },
  {
   "cell_type": "code",
   "execution_count": 20,
   "id": "d9c805d0",
   "metadata": {},
   "outputs": [
    {
     "name": "stdout",
     "output_type": "stream",
     "text": [
      "WARNING:tensorflow:`period` argument is deprecated. Please use `save_freq` to specify the frequency in number of batches seen.\n"
     ]
    }
   ],
   "source": [
    "from tensorflow.keras.callbacks import ModelCheckpoint\n",
    "from tensorflow.keras.callbacks import ReduceLROnPlateau\n",
    "from tensorflow.keras.callbacks import TensorBoard\n",
    "\n",
    "checkpoint = ModelCheckpoint(\"emotions.h5\", monitor='accuracy', verbose=1,\n",
    "                              save_best_only=True, mode='auto', period=1)\n",
    "\n",
    "reduce = ReduceLROnPlateau(monitor='accuracy', factor=0.2, patience=10, \n",
    "                           min_lr=0.0001, verbose = 1)\n",
    "\n",
    "logdir='logs'\n",
    "tensorboard_Visualization = TensorBoard(log_dir=logdir, histogram_freq=False)"
   ]
  },
  {
   "cell_type": "code",
   "execution_count": 21,
   "id": "177dba68",
   "metadata": {},
   "outputs": [
    {
     "name": "stdout",
     "output_type": "stream",
     "text": [
      "Epoch 1/150\n",
      " 39/443 [=>............................] - ETA: 3:15 - loss: 2.6364 - accuracy: 0.1763"
     ]
    },
    {
     "ename": "KeyboardInterrupt",
     "evalue": "",
     "output_type": "error",
     "traceback": [
      "\u001b[1;31m---------------------------------------------------------------------------\u001b[0m",
      "\u001b[1;31mKeyboardInterrupt\u001b[0m                         Traceback (most recent call last)",
      "\u001b[1;32m~\\AppData\\Local\\Temp/ipykernel_10700/3351108847.py\u001b[0m in \u001b[0;36m<module>\u001b[1;34m\u001b[0m\n\u001b[0;32m      8\u001b[0m               metrics=['accuracy'])\n\u001b[0;32m      9\u001b[0m \u001b[1;33m\u001b[0m\u001b[0m\n\u001b[1;32m---> 10\u001b[1;33m model.fit(train_generator,\n\u001b[0m\u001b[0;32m     11\u001b[0m           \u001b[0msteps_per_epoch\u001b[0m \u001b[1;33m=\u001b[0m \u001b[0mtrain_samples\u001b[0m\u001b[1;33m//\u001b[0m\u001b[0mbatch_size\u001b[0m\u001b[1;33m,\u001b[0m\u001b[1;33m\u001b[0m\u001b[1;33m\u001b[0m\u001b[0m\n\u001b[0;32m     12\u001b[0m           \u001b[0mepochs\u001b[0m \u001b[1;33m=\u001b[0m \u001b[0mepochs\u001b[0m\u001b[1;33m,\u001b[0m\u001b[1;33m\u001b[0m\u001b[1;33m\u001b[0m\u001b[0m\n",
      "\u001b[1;32m~\\anaconda3\\lib\\site-packages\\keras\\utils\\traceback_utils.py\u001b[0m in \u001b[0;36merror_handler\u001b[1;34m(*args, **kwargs)\u001b[0m\n\u001b[0;32m     62\u001b[0m     \u001b[0mfiltered_tb\u001b[0m \u001b[1;33m=\u001b[0m \u001b[1;32mNone\u001b[0m\u001b[1;33m\u001b[0m\u001b[1;33m\u001b[0m\u001b[0m\n\u001b[0;32m     63\u001b[0m     \u001b[1;32mtry\u001b[0m\u001b[1;33m:\u001b[0m\u001b[1;33m\u001b[0m\u001b[1;33m\u001b[0m\u001b[0m\n\u001b[1;32m---> 64\u001b[1;33m       \u001b[1;32mreturn\u001b[0m \u001b[0mfn\u001b[0m\u001b[1;33m(\u001b[0m\u001b[1;33m*\u001b[0m\u001b[0margs\u001b[0m\u001b[1;33m,\u001b[0m \u001b[1;33m**\u001b[0m\u001b[0mkwargs\u001b[0m\u001b[1;33m)\u001b[0m\u001b[1;33m\u001b[0m\u001b[1;33m\u001b[0m\u001b[0m\n\u001b[0m\u001b[0;32m     65\u001b[0m     \u001b[1;32mexcept\u001b[0m \u001b[0mException\u001b[0m \u001b[1;32mas\u001b[0m \u001b[0me\u001b[0m\u001b[1;33m:\u001b[0m  \u001b[1;31m# pylint: disable=broad-except\u001b[0m\u001b[1;33m\u001b[0m\u001b[1;33m\u001b[0m\u001b[0m\n\u001b[0;32m     66\u001b[0m       \u001b[0mfiltered_tb\u001b[0m \u001b[1;33m=\u001b[0m \u001b[0m_process_traceback_frames\u001b[0m\u001b[1;33m(\u001b[0m\u001b[0me\u001b[0m\u001b[1;33m.\u001b[0m\u001b[0m__traceback__\u001b[0m\u001b[1;33m)\u001b[0m\u001b[1;33m\u001b[0m\u001b[1;33m\u001b[0m\u001b[0m\n",
      "\u001b[1;32m~\\anaconda3\\lib\\site-packages\\keras\\engine\\training.py\u001b[0m in \u001b[0;36mfit\u001b[1;34m(self, x, y, batch_size, epochs, verbose, callbacks, validation_split, validation_data, shuffle, class_weight, sample_weight, initial_epoch, steps_per_epoch, validation_steps, validation_batch_size, validation_freq, max_queue_size, workers, use_multiprocessing)\u001b[0m\n\u001b[0;32m   1382\u001b[0m                 _r=1):\n\u001b[0;32m   1383\u001b[0m               \u001b[0mcallbacks\u001b[0m\u001b[1;33m.\u001b[0m\u001b[0mon_train_batch_begin\u001b[0m\u001b[1;33m(\u001b[0m\u001b[0mstep\u001b[0m\u001b[1;33m)\u001b[0m\u001b[1;33m\u001b[0m\u001b[1;33m\u001b[0m\u001b[0m\n\u001b[1;32m-> 1384\u001b[1;33m               \u001b[0mtmp_logs\u001b[0m \u001b[1;33m=\u001b[0m \u001b[0mself\u001b[0m\u001b[1;33m.\u001b[0m\u001b[0mtrain_function\u001b[0m\u001b[1;33m(\u001b[0m\u001b[0miterator\u001b[0m\u001b[1;33m)\u001b[0m\u001b[1;33m\u001b[0m\u001b[1;33m\u001b[0m\u001b[0m\n\u001b[0m\u001b[0;32m   1385\u001b[0m               \u001b[1;32mif\u001b[0m \u001b[0mdata_handler\u001b[0m\u001b[1;33m.\u001b[0m\u001b[0mshould_sync\u001b[0m\u001b[1;33m:\u001b[0m\u001b[1;33m\u001b[0m\u001b[1;33m\u001b[0m\u001b[0m\n\u001b[0;32m   1386\u001b[0m                 \u001b[0mcontext\u001b[0m\u001b[1;33m.\u001b[0m\u001b[0masync_wait\u001b[0m\u001b[1;33m(\u001b[0m\u001b[1;33m)\u001b[0m\u001b[1;33m\u001b[0m\u001b[1;33m\u001b[0m\u001b[0m\n",
      "\u001b[1;32m~\\anaconda3\\lib\\site-packages\\tensorflow\\python\\util\\traceback_utils.py\u001b[0m in \u001b[0;36merror_handler\u001b[1;34m(*args, **kwargs)\u001b[0m\n\u001b[0;32m    148\u001b[0m     \u001b[0mfiltered_tb\u001b[0m \u001b[1;33m=\u001b[0m \u001b[1;32mNone\u001b[0m\u001b[1;33m\u001b[0m\u001b[1;33m\u001b[0m\u001b[0m\n\u001b[0;32m    149\u001b[0m     \u001b[1;32mtry\u001b[0m\u001b[1;33m:\u001b[0m\u001b[1;33m\u001b[0m\u001b[1;33m\u001b[0m\u001b[0m\n\u001b[1;32m--> 150\u001b[1;33m       \u001b[1;32mreturn\u001b[0m \u001b[0mfn\u001b[0m\u001b[1;33m(\u001b[0m\u001b[1;33m*\u001b[0m\u001b[0margs\u001b[0m\u001b[1;33m,\u001b[0m \u001b[1;33m**\u001b[0m\u001b[0mkwargs\u001b[0m\u001b[1;33m)\u001b[0m\u001b[1;33m\u001b[0m\u001b[1;33m\u001b[0m\u001b[0m\n\u001b[0m\u001b[0;32m    151\u001b[0m     \u001b[1;32mexcept\u001b[0m \u001b[0mException\u001b[0m \u001b[1;32mas\u001b[0m \u001b[0me\u001b[0m\u001b[1;33m:\u001b[0m\u001b[1;33m\u001b[0m\u001b[1;33m\u001b[0m\u001b[0m\n\u001b[0;32m    152\u001b[0m       \u001b[0mfiltered_tb\u001b[0m \u001b[1;33m=\u001b[0m \u001b[0m_process_traceback_frames\u001b[0m\u001b[1;33m(\u001b[0m\u001b[0me\u001b[0m\u001b[1;33m.\u001b[0m\u001b[0m__traceback__\u001b[0m\u001b[1;33m)\u001b[0m\u001b[1;33m\u001b[0m\u001b[1;33m\u001b[0m\u001b[0m\n",
      "\u001b[1;32m~\\anaconda3\\lib\\site-packages\\tensorflow\\python\\eager\\def_function.py\u001b[0m in \u001b[0;36m__call__\u001b[1;34m(self, *args, **kwds)\u001b[0m\n\u001b[0;32m    913\u001b[0m \u001b[1;33m\u001b[0m\u001b[0m\n\u001b[0;32m    914\u001b[0m       \u001b[1;32mwith\u001b[0m \u001b[0mOptionalXlaContext\u001b[0m\u001b[1;33m(\u001b[0m\u001b[0mself\u001b[0m\u001b[1;33m.\u001b[0m\u001b[0m_jit_compile\u001b[0m\u001b[1;33m)\u001b[0m\u001b[1;33m:\u001b[0m\u001b[1;33m\u001b[0m\u001b[1;33m\u001b[0m\u001b[0m\n\u001b[1;32m--> 915\u001b[1;33m         \u001b[0mresult\u001b[0m \u001b[1;33m=\u001b[0m \u001b[0mself\u001b[0m\u001b[1;33m.\u001b[0m\u001b[0m_call\u001b[0m\u001b[1;33m(\u001b[0m\u001b[1;33m*\u001b[0m\u001b[0margs\u001b[0m\u001b[1;33m,\u001b[0m \u001b[1;33m**\u001b[0m\u001b[0mkwds\u001b[0m\u001b[1;33m)\u001b[0m\u001b[1;33m\u001b[0m\u001b[1;33m\u001b[0m\u001b[0m\n\u001b[0m\u001b[0;32m    916\u001b[0m \u001b[1;33m\u001b[0m\u001b[0m\n\u001b[0;32m    917\u001b[0m       \u001b[0mnew_tracing_count\u001b[0m \u001b[1;33m=\u001b[0m \u001b[0mself\u001b[0m\u001b[1;33m.\u001b[0m\u001b[0mexperimental_get_tracing_count\u001b[0m\u001b[1;33m(\u001b[0m\u001b[1;33m)\u001b[0m\u001b[1;33m\u001b[0m\u001b[1;33m\u001b[0m\u001b[0m\n",
      "\u001b[1;32m~\\anaconda3\\lib\\site-packages\\tensorflow\\python\\eager\\def_function.py\u001b[0m in \u001b[0;36m_call\u001b[1;34m(self, *args, **kwds)\u001b[0m\n\u001b[0;32m    945\u001b[0m       \u001b[1;31m# In this case we have created variables on the first call, so we run the\u001b[0m\u001b[1;33m\u001b[0m\u001b[1;33m\u001b[0m\u001b[0m\n\u001b[0;32m    946\u001b[0m       \u001b[1;31m# defunned version which is guaranteed to never create variables.\u001b[0m\u001b[1;33m\u001b[0m\u001b[1;33m\u001b[0m\u001b[0m\n\u001b[1;32m--> 947\u001b[1;33m       \u001b[1;32mreturn\u001b[0m \u001b[0mself\u001b[0m\u001b[1;33m.\u001b[0m\u001b[0m_stateless_fn\u001b[0m\u001b[1;33m(\u001b[0m\u001b[1;33m*\u001b[0m\u001b[0margs\u001b[0m\u001b[1;33m,\u001b[0m \u001b[1;33m**\u001b[0m\u001b[0mkwds\u001b[0m\u001b[1;33m)\u001b[0m  \u001b[1;31m# pylint: disable=not-callable\u001b[0m\u001b[1;33m\u001b[0m\u001b[1;33m\u001b[0m\u001b[0m\n\u001b[0m\u001b[0;32m    948\u001b[0m     \u001b[1;32melif\u001b[0m \u001b[0mself\u001b[0m\u001b[1;33m.\u001b[0m\u001b[0m_stateful_fn\u001b[0m \u001b[1;32mis\u001b[0m \u001b[1;32mnot\u001b[0m \u001b[1;32mNone\u001b[0m\u001b[1;33m:\u001b[0m\u001b[1;33m\u001b[0m\u001b[1;33m\u001b[0m\u001b[0m\n\u001b[0;32m    949\u001b[0m       \u001b[1;31m# Release the lock early so that multiple threads can perform the call\u001b[0m\u001b[1;33m\u001b[0m\u001b[1;33m\u001b[0m\u001b[0m\n",
      "\u001b[1;32m~\\anaconda3\\lib\\site-packages\\tensorflow\\python\\eager\\function.py\u001b[0m in \u001b[0;36m__call__\u001b[1;34m(self, *args, **kwargs)\u001b[0m\n\u001b[0;32m   2954\u001b[0m       (graph_function,\n\u001b[0;32m   2955\u001b[0m        filtered_flat_args) = self._maybe_define_function(args, kwargs)\n\u001b[1;32m-> 2956\u001b[1;33m     return graph_function._call_flat(\n\u001b[0m\u001b[0;32m   2957\u001b[0m         filtered_flat_args, captured_inputs=graph_function.captured_inputs)  # pylint: disable=protected-access\n\u001b[0;32m   2958\u001b[0m \u001b[1;33m\u001b[0m\u001b[0m\n",
      "\u001b[1;32m~\\anaconda3\\lib\\site-packages\\tensorflow\\python\\eager\\function.py\u001b[0m in \u001b[0;36m_call_flat\u001b[1;34m(self, args, captured_inputs, cancellation_manager)\u001b[0m\n\u001b[0;32m   1851\u001b[0m         and executing_eagerly):\n\u001b[0;32m   1852\u001b[0m       \u001b[1;31m# No tape is watching; skip to running the function.\u001b[0m\u001b[1;33m\u001b[0m\u001b[1;33m\u001b[0m\u001b[0m\n\u001b[1;32m-> 1853\u001b[1;33m       return self._build_call_outputs(self._inference_function.call(\n\u001b[0m\u001b[0;32m   1854\u001b[0m           ctx, args, cancellation_manager=cancellation_manager))\n\u001b[0;32m   1855\u001b[0m     forward_backward = self._select_forward_and_backward_functions(\n",
      "\u001b[1;32m~\\anaconda3\\lib\\site-packages\\tensorflow\\python\\eager\\function.py\u001b[0m in \u001b[0;36mcall\u001b[1;34m(self, ctx, args, cancellation_manager)\u001b[0m\n\u001b[0;32m    497\u001b[0m       \u001b[1;32mwith\u001b[0m \u001b[0m_InterpolateFunctionError\u001b[0m\u001b[1;33m(\u001b[0m\u001b[0mself\u001b[0m\u001b[1;33m)\u001b[0m\u001b[1;33m:\u001b[0m\u001b[1;33m\u001b[0m\u001b[1;33m\u001b[0m\u001b[0m\n\u001b[0;32m    498\u001b[0m         \u001b[1;32mif\u001b[0m \u001b[0mcancellation_manager\u001b[0m \u001b[1;32mis\u001b[0m \u001b[1;32mNone\u001b[0m\u001b[1;33m:\u001b[0m\u001b[1;33m\u001b[0m\u001b[1;33m\u001b[0m\u001b[0m\n\u001b[1;32m--> 499\u001b[1;33m           outputs = execute.execute(\n\u001b[0m\u001b[0;32m    500\u001b[0m               \u001b[0mstr\u001b[0m\u001b[1;33m(\u001b[0m\u001b[0mself\u001b[0m\u001b[1;33m.\u001b[0m\u001b[0msignature\u001b[0m\u001b[1;33m.\u001b[0m\u001b[0mname\u001b[0m\u001b[1;33m)\u001b[0m\u001b[1;33m,\u001b[0m\u001b[1;33m\u001b[0m\u001b[1;33m\u001b[0m\u001b[0m\n\u001b[0;32m    501\u001b[0m               \u001b[0mnum_outputs\u001b[0m\u001b[1;33m=\u001b[0m\u001b[0mself\u001b[0m\u001b[1;33m.\u001b[0m\u001b[0m_num_outputs\u001b[0m\u001b[1;33m,\u001b[0m\u001b[1;33m\u001b[0m\u001b[1;33m\u001b[0m\u001b[0m\n",
      "\u001b[1;32m~\\anaconda3\\lib\\site-packages\\tensorflow\\python\\eager\\execute.py\u001b[0m in \u001b[0;36mquick_execute\u001b[1;34m(op_name, num_outputs, inputs, attrs, ctx, name)\u001b[0m\n\u001b[0;32m     52\u001b[0m   \u001b[1;32mtry\u001b[0m\u001b[1;33m:\u001b[0m\u001b[1;33m\u001b[0m\u001b[1;33m\u001b[0m\u001b[0m\n\u001b[0;32m     53\u001b[0m     \u001b[0mctx\u001b[0m\u001b[1;33m.\u001b[0m\u001b[0mensure_initialized\u001b[0m\u001b[1;33m(\u001b[0m\u001b[1;33m)\u001b[0m\u001b[1;33m\u001b[0m\u001b[1;33m\u001b[0m\u001b[0m\n\u001b[1;32m---> 54\u001b[1;33m     tensors = pywrap_tfe.TFE_Py_Execute(ctx._handle, device_name, op_name,\n\u001b[0m\u001b[0;32m     55\u001b[0m                                         inputs, attrs, num_outputs)\n\u001b[0;32m     56\u001b[0m   \u001b[1;32mexcept\u001b[0m \u001b[0mcore\u001b[0m\u001b[1;33m.\u001b[0m\u001b[0m_NotOkStatusException\u001b[0m \u001b[1;32mas\u001b[0m \u001b[0me\u001b[0m\u001b[1;33m:\u001b[0m\u001b[1;33m\u001b[0m\u001b[1;33m\u001b[0m\u001b[0m\n",
      "\u001b[1;31mKeyboardInterrupt\u001b[0m: "
     ]
    }
   ],
   "source": [
    "train_samples = 28353\n",
    "validation_samples = 3534\n",
    "epochs = 150\n",
    "batch_size = 64\n",
    "\n",
    "model.compile(loss='categorical_crossentropy',\n",
    "              optimizer = Adam(lr = 0.001),\n",
    "              metrics=['accuracy'])\n",
    "              \n",
    "model.fit(train_generator,\n",
    "          steps_per_epoch = train_samples//batch_size,\n",
    "          epochs = epochs,\n",
    "          callbacks = [checkpoint, reduce, tensorboard_Visualization],\n",
    "          validation_data = validation_generator,\n",
    "          validation_steps = validation_samples//batch_size,\n",
    "          shuffle=True)"
   ]
  },
  {
   "cell_type": "code",
   "execution_count": null,
   "id": "0687d77b",
   "metadata": {},
   "outputs": [],
   "source": []
  }
 ],
 "metadata": {
  "kernelspec": {
   "display_name": "Python 3 (ipykernel)",
   "language": "python",
   "name": "python3"
  },
  "language_info": {
   "codemirror_mode": {
    "name": "ipython",
    "version": 3
   },
   "file_extension": ".py",
   "mimetype": "text/x-python",
   "name": "python",
   "nbconvert_exporter": "python",
   "pygments_lexer": "ipython3",
   "version": "3.9.7"
  }
 },
 "nbformat": 4,
 "nbformat_minor": 5
}
